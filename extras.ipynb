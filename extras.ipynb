{
 "cells": [
  {
   "cell_type": "markdown",
   "id": "aa25798b-472e-4881-99e6-05fa426489e2",
   "metadata": {},
   "source": [
    "# Extras - Códigos e Brincadeiras não cobertos pelo curso"
   ]
  },
  {
   "cell_type": "code",
   "execution_count": 1,
   "id": "c775ca79-f5e1-4862-b1a0-0f1213f96eb2",
   "metadata": {},
   "outputs": [],
   "source": [
    "import sys # noqa E402\n",
    "sys.path.insert(0, '../')\n",
    "\n",
    "from src.utils import print_pretty # noqa E402"
   ]
  },
  {
   "cell_type": "markdown",
   "id": "3053c2e4-24bd-49d6-a32a-6b343902a858",
   "metadata": {},
   "source": [
    "### Curiosidade: gerando dicionários"
   ]
  },
  {
   "cell_type": "markdown",
   "id": "0228f621-a242-444c-8b8e-e5031609a82f",
   "metadata": {},
   "source": [
    "Podemos gerar o dicionário com o código abaixo..."
   ]
  },
  {
   "cell_type": "code",
   "execution_count": 2,
   "id": "ee7ba04a-71b9-41a7-bd7b-5b8aa5b8811b",
   "metadata": {},
   "outputs": [
    {
     "data": {
      "text/markdown": [
       "```python\n",
       "{'Coluna 0': {'Linha 0': 1, 'Linha 1': 4, 'Linha 2': 7},\n",
       " 'Coluna 1': {'Linha 0': 2, 'Linha 1': 5, 'Linha 2': 8},\n",
       " 'Coluna 2': {'Linha 0': 3, 'Linha 1': 6, 'Linha 2': 9}}\n",
       "```"
      ],
      "text/plain": [
       "<IPython.core.display.Markdown object>"
      ]
     },
     "metadata": {},
     "output_type": "display_data"
    }
   ],
   "source": [
    "dicionario = {}\n",
    "\n",
    "for j in range(3):\n",
    "    dicionario[f'Coluna {j}'] = {}\n",
    "    coluna = dicionario[f'Coluna {j}']\n",
    "\n",
    "    for i in range(3):\n",
    "        coluna[f'Linha {i}'] = ((j + 1) + (i * 3))\n",
    "\n",
    "print_pretty(dicionario)"
   ]
  },
  {
   "cell_type": "markdown",
   "id": "15b9c1f9-3297-4720-a624-113a4be1354f",
   "metadata": {},
   "source": [
    "... ou com seu equivalente usando dict comprehension. Aqui, a comprehension \n",
    "está formatada para caber em 80 caracteres."
   ]
  },
  {
   "cell_type": "code",
   "execution_count": 3,
   "id": "186f7b7d-6627-4d1f-a4cb-ddb742cbbdee",
   "metadata": {},
   "outputs": [
    {
     "data": {
      "text/markdown": [
       "```python\n",
       "{'Coluna 0': {'Linha 0': 1, 'Linha 1': 4, 'Linha 2': 7},\n",
       " 'Coluna 1': {'Linha 0': 2, 'Linha 1': 5, 'Linha 2': 8},\n",
       " 'Coluna 2': {'Linha 0': 3, 'Linha 1': 6, 'Linha 2': 9}}\n",
       "```"
      ],
      "text/plain": [
       "<IPython.core.display.Markdown object>"
      ]
     },
     "metadata": {},
     "output_type": "display_data"
    }
   ],
   "source": [
    "tamanho = 3\n",
    "d = {\n",
    "    f\"Coluna {j}\": {\n",
    "        f\"Linha {i}\": ((j + 1) + (i * tamanho)) for i in range(tamanho)\n",
    "    }\n",
    "    for j in range(tamanho)\n",
    "}\n",
    "\n",
    "print_pretty(d)"
   ]
  },
  {
   "cell_type": "code",
   "execution_count": null,
   "id": "bfccaaad-bff5-40da-ac1c-44e50979f492",
   "metadata": {},
   "outputs": [],
   "source": []
  }
 ],
 "metadata": {
  "kernelspec": {
   "display_name": "Python 3 (ipykernel)",
   "language": "python",
   "name": "python3"
  },
  "language_info": {
   "codemirror_mode": {
    "name": "ipython",
    "version": 3
   },
   "file_extension": ".py",
   "mimetype": "text/x-python",
   "name": "python",
   "nbconvert_exporter": "python",
   "pygments_lexer": "ipython3",
   "version": "3.9.7"
  },
  "widgets": {
   "application/vnd.jupyter.widget-state+json": {
    "state": {},
    "version_major": 2,
    "version_minor": 0
   }
  }
 },
 "nbformat": 4,
 "nbformat_minor": 5
}
