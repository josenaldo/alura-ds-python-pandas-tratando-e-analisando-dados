{
 "cells": [
  {
   "cell_type": "markdown",
   "id": "a7cbb6c1-85e5-4160-a59d-389eb50fbeac",
   "metadata": {},
   "source": [
    "# Relatório de Análise II"
   ]
  },
  {
   "cell_type": "markdown",
   "id": "46807d64-690d-45da-8e53-869d1c55199c",
   "metadata": {},
   "source": [
    "## Tipos de Imóveis"
   ]
  },
  {
   "cell_type": "code",
   "execution_count": 1,
   "id": "9d4eb184-33c5-4080-b71b-b60b5f6e8c3c",
   "metadata": {},
   "outputs": [],
   "source": [
    "# Importando o pandas\n",
    "import pandas as pd # noqa E402"
   ]
  },
  {
   "cell_type": "code",
   "execution_count": 2,
   "id": "8a3c2f21-6632-473a-8808-ad2965855d69",
   "metadata": {},
   "outputs": [],
   "source": [
    "# Carregando o arquivo CSV\n",
    "dados = pd.read_csv('../data/aluguel.csv', sep=';')"
   ]
  },
  {
   "cell_type": "code",
   "execution_count": 3,
   "id": "c9fe5a93-fb93-437d-8ed4-b1362beac51b",
   "metadata": {},
   "outputs": [
    {
     "data": {
      "text/html": [
       "<div>\n",
       "<style scoped>\n",
       "    .dataframe tbody tr th:only-of-type {\n",
       "        vertical-align: middle;\n",
       "    }\n",
       "\n",
       "    .dataframe tbody tr th {\n",
       "        vertical-align: top;\n",
       "    }\n",
       "\n",
       "    .dataframe thead th {\n",
       "        text-align: right;\n",
       "    }\n",
       "</style>\n",
       "<table border=\"1\" class=\"dataframe\">\n",
       "  <thead>\n",
       "    <tr style=\"text-align: right;\">\n",
       "      <th></th>\n",
       "      <th>Tipo</th>\n",
       "      <th>Bairro</th>\n",
       "      <th>Quartos</th>\n",
       "      <th>Vagas</th>\n",
       "      <th>Suites</th>\n",
       "      <th>Area</th>\n",
       "      <th>Valor</th>\n",
       "      <th>Condominio</th>\n",
       "      <th>IPTU</th>\n",
       "    </tr>\n",
       "  </thead>\n",
       "  <tbody>\n",
       "    <tr>\n",
       "      <th>0</th>\n",
       "      <td>Quitinete</td>\n",
       "      <td>Copacabana</td>\n",
       "      <td>1</td>\n",
       "      <td>0</td>\n",
       "      <td>0</td>\n",
       "      <td>40</td>\n",
       "      <td>1700.0</td>\n",
       "      <td>500.0</td>\n",
       "      <td>60.0</td>\n",
       "    </tr>\n",
       "    <tr>\n",
       "      <th>1</th>\n",
       "      <td>Casa</td>\n",
       "      <td>Jardim Botânico</td>\n",
       "      <td>2</td>\n",
       "      <td>0</td>\n",
       "      <td>1</td>\n",
       "      <td>100</td>\n",
       "      <td>7000.0</td>\n",
       "      <td>NaN</td>\n",
       "      <td>NaN</td>\n",
       "    </tr>\n",
       "    <tr>\n",
       "      <th>2</th>\n",
       "      <td>Conjunto Comercial/Sala</td>\n",
       "      <td>Barra da Tijuca</td>\n",
       "      <td>0</td>\n",
       "      <td>4</td>\n",
       "      <td>0</td>\n",
       "      <td>150</td>\n",
       "      <td>5200.0</td>\n",
       "      <td>4020.0</td>\n",
       "      <td>1111.0</td>\n",
       "    </tr>\n",
       "    <tr>\n",
       "      <th>3</th>\n",
       "      <td>Apartamento</td>\n",
       "      <td>Centro</td>\n",
       "      <td>1</td>\n",
       "      <td>0</td>\n",
       "      <td>0</td>\n",
       "      <td>15</td>\n",
       "      <td>800.0</td>\n",
       "      <td>390.0</td>\n",
       "      <td>20.0</td>\n",
       "    </tr>\n",
       "    <tr>\n",
       "      <th>4</th>\n",
       "      <td>Apartamento</td>\n",
       "      <td>Higienópolis</td>\n",
       "      <td>1</td>\n",
       "      <td>0</td>\n",
       "      <td>0</td>\n",
       "      <td>48</td>\n",
       "      <td>800.0</td>\n",
       "      <td>230.0</td>\n",
       "      <td>NaN</td>\n",
       "    </tr>\n",
       "    <tr>\n",
       "      <th>5</th>\n",
       "      <td>Apartamento</td>\n",
       "      <td>Vista Alegre</td>\n",
       "      <td>3</td>\n",
       "      <td>1</td>\n",
       "      <td>0</td>\n",
       "      <td>70</td>\n",
       "      <td>1200.0</td>\n",
       "      <td>NaN</td>\n",
       "      <td>NaN</td>\n",
       "    </tr>\n",
       "    <tr>\n",
       "      <th>6</th>\n",
       "      <td>Apartamento</td>\n",
       "      <td>Cachambi</td>\n",
       "      <td>2</td>\n",
       "      <td>0</td>\n",
       "      <td>0</td>\n",
       "      <td>50</td>\n",
       "      <td>1300.0</td>\n",
       "      <td>301.0</td>\n",
       "      <td>17.0</td>\n",
       "    </tr>\n",
       "    <tr>\n",
       "      <th>7</th>\n",
       "      <td>Casa de Condomínio</td>\n",
       "      <td>Barra da Tijuca</td>\n",
       "      <td>5</td>\n",
       "      <td>4</td>\n",
       "      <td>5</td>\n",
       "      <td>750</td>\n",
       "      <td>22000.0</td>\n",
       "      <td>NaN</td>\n",
       "      <td>NaN</td>\n",
       "    </tr>\n",
       "    <tr>\n",
       "      <th>8</th>\n",
       "      <td>Casa de Condomínio</td>\n",
       "      <td>Ramos</td>\n",
       "      <td>2</td>\n",
       "      <td>2</td>\n",
       "      <td>0</td>\n",
       "      <td>65</td>\n",
       "      <td>1000.0</td>\n",
       "      <td>NaN</td>\n",
       "      <td>NaN</td>\n",
       "    </tr>\n",
       "    <tr>\n",
       "      <th>9</th>\n",
       "      <td>Conjunto Comercial/Sala</td>\n",
       "      <td>Centro</td>\n",
       "      <td>0</td>\n",
       "      <td>3</td>\n",
       "      <td>0</td>\n",
       "      <td>695</td>\n",
       "      <td>35000.0</td>\n",
       "      <td>19193.0</td>\n",
       "      <td>3030.0</td>\n",
       "    </tr>\n",
       "  </tbody>\n",
       "</table>\n",
       "</div>"
      ],
      "text/plain": [
       "                      Tipo           Bairro  Quartos  Vagas  Suites  Area  \\\n",
       "0                Quitinete       Copacabana        1      0       0    40   \n",
       "1                     Casa  Jardim Botânico        2      0       1   100   \n",
       "2  Conjunto Comercial/Sala  Barra da Tijuca        0      4       0   150   \n",
       "3              Apartamento           Centro        1      0       0    15   \n",
       "4              Apartamento     Higienópolis        1      0       0    48   \n",
       "5              Apartamento     Vista Alegre        3      1       0    70   \n",
       "6              Apartamento         Cachambi        2      0       0    50   \n",
       "7       Casa de Condomínio  Barra da Tijuca        5      4       5   750   \n",
       "8       Casa de Condomínio            Ramos        2      2       0    65   \n",
       "9  Conjunto Comercial/Sala           Centro        0      3       0   695   \n",
       "\n",
       "     Valor  Condominio    IPTU  \n",
       "0   1700.0       500.0    60.0  \n",
       "1   7000.0         NaN     NaN  \n",
       "2   5200.0      4020.0  1111.0  \n",
       "3    800.0       390.0    20.0  \n",
       "4    800.0       230.0     NaN  \n",
       "5   1200.0         NaN     NaN  \n",
       "6   1300.0       301.0    17.0  \n",
       "7  22000.0         NaN     NaN  \n",
       "8   1000.0         NaN     NaN  \n",
       "9  35000.0     19193.0  3030.0  "
      ]
     },
     "execution_count": 3,
     "metadata": {},
     "output_type": "execute_result"
    }
   ],
   "source": [
    "# Obtendo os 10 primeiros registros\n",
    "dados.head(10)"
   ]
  },
  {
   "cell_type": "code",
   "execution_count": 4,
   "id": "65869131-8228-4955-b3c6-3ddcd963e2c1",
   "metadata": {
    "tags": []
   },
   "outputs": [
    {
     "data": {
      "text/plain": [
       "0                      Quitinete\n",
       "1                           Casa\n",
       "2        Conjunto Comercial/Sala\n",
       "3                    Apartamento\n",
       "4                    Apartamento\n",
       "                  ...           \n",
       "32955                  Quitinete\n",
       "32956                Apartamento\n",
       "32957                Apartamento\n",
       "32958                Apartamento\n",
       "32959    Conjunto Comercial/Sala\n",
       "Name: Tipo, Length: 32960, dtype: object"
      ]
     },
     "execution_count": 4,
     "metadata": {},
     "output_type": "execute_result"
    }
   ],
   "source": [
    "# Acessando a \"coluna\" Tipos, do dataframe\n",
    "dados['Tipo']"
   ]
  },
  {
   "cell_type": "code",
   "execution_count": 5,
   "id": "894a363c-617d-4592-8b94-29b34b0824a9",
   "metadata": {},
   "outputs": [
    {
     "data": {
      "text/plain": [
       "0                      Quitinete\n",
       "1                           Casa\n",
       "2        Conjunto Comercial/Sala\n",
       "3                    Apartamento\n",
       "4                    Apartamento\n",
       "                  ...           \n",
       "32955                  Quitinete\n",
       "32956                Apartamento\n",
       "32957                Apartamento\n",
       "32958                Apartamento\n",
       "32959    Conjunto Comercial/Sala\n",
       "Name: Tipo, Length: 32960, dtype: object"
      ]
     },
     "execution_count": 5,
     "metadata": {},
     "output_type": "execute_result"
    }
   ],
   "source": [
    "# O acesso também pode ser feito através da sintaxe de ponto, desde que o nome\n",
    "# da variável seja um nome de identificador válido no Python\n",
    "dados.Tipo"
   ]
  },
  {
   "cell_type": "code",
   "execution_count": 6,
   "id": "834d76db-f016-4ee4-8b1f-29b061f37730",
   "metadata": {},
   "outputs": [],
   "source": [
    "tipo_de_imovel = dados['Tipo']"
   ]
  },
  {
   "cell_type": "code",
   "execution_count": 7,
   "id": "72315827-ea7a-4b8e-b560-227668b843b7",
   "metadata": {},
   "outputs": [
    {
     "data": {
      "text/plain": [
       "pandas.core.series.Series"
      ]
     },
     "execution_count": 7,
     "metadata": {},
     "output_type": "execute_result"
    }
   ],
   "source": [
    "# o tipo de tipo_de_imovel é pandas.core.series.Series, uma estrutura\n",
    "# unidimensional do pandas. Cada coluna de um dataframe é uma Series.\n",
    "\n",
    "type(tipo_de_imovel)"
   ]
  },
  {
   "cell_type": "code",
   "execution_count": 8,
   "id": "03f2e968-16bf-4fd5-9bc7-f7854ded3c81",
   "metadata": {},
   "outputs": [
    {
     "data": {
      "text/plain": [
       "0                          Quitinete\n",
       "1                               Casa\n",
       "2            Conjunto Comercial/Sala\n",
       "3                        Apartamento\n",
       "7                 Casa de Condomínio\n",
       "16                    Prédio Inteiro\n",
       "17                              Flat\n",
       "29                        Loja/Salão\n",
       "80           Galpão/Depósito/Armazém\n",
       "83                    Casa Comercial\n",
       "117                     Casa de Vila\n",
       "159                   Terreno Padrão\n",
       "207                      Box/Garagem\n",
       "347                             Loft\n",
       "589      Loja Shopping/ Ct Comercial\n",
       "2157                         Chácara\n",
       "3354           Loteamento/Condomínio\n",
       "4379                           Sítio\n",
       "4721                   Pousada/Chalé\n",
       "6983                          Studio\n",
       "9687                           Hotel\n",
       "23614                      Indústria\n",
       "Name: Tipo, dtype: object"
      ]
     },
     "execution_count": 8,
     "metadata": {},
     "output_type": "execute_result"
    }
   ],
   "source": [
    "# Selecionando cada valor único, descartando as duplicatas\n",
    "tipo_de_imovel.drop_duplicates()"
   ]
  },
  {
   "cell_type": "code",
   "execution_count": 9,
   "id": "a87337e4-77f2-448c-b3d1-7324ce5a77c6",
   "metadata": {},
   "outputs": [
    {
     "data": {
      "text/plain": [
       "0                      Quitinete\n",
       "1                           Casa\n",
       "2        Conjunto Comercial/Sala\n",
       "3                    Apartamento\n",
       "4                    Apartamento\n",
       "                  ...           \n",
       "32955                  Quitinete\n",
       "32956                Apartamento\n",
       "32957                Apartamento\n",
       "32958                Apartamento\n",
       "32959    Conjunto Comercial/Sala\n",
       "Name: Tipo, Length: 32960, dtype: object"
      ]
     },
     "execution_count": 9,
     "metadata": {},
     "output_type": "execute_result"
    }
   ],
   "source": [
    "# O método drop_duplicates não faz nenhuma alteração na Series original\n",
    "tipo_de_imovel"
   ]
  },
  {
   "cell_type": "code",
   "execution_count": 10,
   "id": "d1f12ea7-e526-4415-8f19-a2657021b8c3",
   "metadata": {},
   "outputs": [],
   "source": [
    "# Com o parâmetro inplace, podemos modificar a Series\n",
    "tipo_de_imovel.drop_duplicates(inplace=True)"
   ]
  },
  {
   "cell_type": "code",
   "execution_count": 11,
   "id": "72c661e5-2899-4380-b10a-b9301c533c29",
   "metadata": {},
   "outputs": [
    {
     "data": {
      "text/plain": [
       "0                          Quitinete\n",
       "1                               Casa\n",
       "2            Conjunto Comercial/Sala\n",
       "3                        Apartamento\n",
       "7                 Casa de Condomínio\n",
       "16                    Prédio Inteiro\n",
       "17                              Flat\n",
       "29                        Loja/Salão\n",
       "80           Galpão/Depósito/Armazém\n",
       "83                    Casa Comercial\n",
       "117                     Casa de Vila\n",
       "159                   Terreno Padrão\n",
       "207                      Box/Garagem\n",
       "347                             Loft\n",
       "589      Loja Shopping/ Ct Comercial\n",
       "2157                         Chácara\n",
       "3354           Loteamento/Condomínio\n",
       "4379                           Sítio\n",
       "4721                   Pousada/Chalé\n",
       "6983                          Studio\n",
       "9687                           Hotel\n",
       "23614                      Indústria\n",
       "Name: Tipo, dtype: object"
      ]
     },
     "execution_count": 11,
     "metadata": {},
     "output_type": "execute_result"
    }
   ],
   "source": [
    "tipo_de_imovel"
   ]
  },
  {
   "cell_type": "markdown",
   "id": "024ccafa-43d5-4da9-9ac0-c48a449f5e96",
   "metadata": {},
   "source": [
    "## Organizando a Visualização"
   ]
  },
  {
   "cell_type": "code",
   "execution_count": 12,
   "id": "31ea1f85-1f74-4c06-8a7d-6e70a2f4ccf3",
   "metadata": {},
   "outputs": [],
   "source": [
    "tipo_de_imovel = pd.DataFrame(tipo_de_imovel)"
   ]
  },
  {
   "cell_type": "code",
   "execution_count": 13,
   "id": "4e12e6ca-d4bb-4532-bb30-f9315ee03033",
   "metadata": {},
   "outputs": [
    {
     "data": {
      "text/html": [
       "<div>\n",
       "<style scoped>\n",
       "    .dataframe tbody tr th:only-of-type {\n",
       "        vertical-align: middle;\n",
       "    }\n",
       "\n",
       "    .dataframe tbody tr th {\n",
       "        vertical-align: top;\n",
       "    }\n",
       "\n",
       "    .dataframe thead th {\n",
       "        text-align: right;\n",
       "    }\n",
       "</style>\n",
       "<table border=\"1\" class=\"dataframe\">\n",
       "  <thead>\n",
       "    <tr style=\"text-align: right;\">\n",
       "      <th></th>\n",
       "      <th>Tipo</th>\n",
       "    </tr>\n",
       "  </thead>\n",
       "  <tbody>\n",
       "    <tr>\n",
       "      <th>0</th>\n",
       "      <td>Quitinete</td>\n",
       "    </tr>\n",
       "    <tr>\n",
       "      <th>1</th>\n",
       "      <td>Casa</td>\n",
       "    </tr>\n",
       "    <tr>\n",
       "      <th>2</th>\n",
       "      <td>Conjunto Comercial/Sala</td>\n",
       "    </tr>\n",
       "    <tr>\n",
       "      <th>3</th>\n",
       "      <td>Apartamento</td>\n",
       "    </tr>\n",
       "    <tr>\n",
       "      <th>7</th>\n",
       "      <td>Casa de Condomínio</td>\n",
       "    </tr>\n",
       "    <tr>\n",
       "      <th>16</th>\n",
       "      <td>Prédio Inteiro</td>\n",
       "    </tr>\n",
       "    <tr>\n",
       "      <th>17</th>\n",
       "      <td>Flat</td>\n",
       "    </tr>\n",
       "    <tr>\n",
       "      <th>29</th>\n",
       "      <td>Loja/Salão</td>\n",
       "    </tr>\n",
       "    <tr>\n",
       "      <th>80</th>\n",
       "      <td>Galpão/Depósito/Armazém</td>\n",
       "    </tr>\n",
       "    <tr>\n",
       "      <th>83</th>\n",
       "      <td>Casa Comercial</td>\n",
       "    </tr>\n",
       "    <tr>\n",
       "      <th>117</th>\n",
       "      <td>Casa de Vila</td>\n",
       "    </tr>\n",
       "    <tr>\n",
       "      <th>159</th>\n",
       "      <td>Terreno Padrão</td>\n",
       "    </tr>\n",
       "    <tr>\n",
       "      <th>207</th>\n",
       "      <td>Box/Garagem</td>\n",
       "    </tr>\n",
       "    <tr>\n",
       "      <th>347</th>\n",
       "      <td>Loft</td>\n",
       "    </tr>\n",
       "    <tr>\n",
       "      <th>589</th>\n",
       "      <td>Loja Shopping/ Ct Comercial</td>\n",
       "    </tr>\n",
       "    <tr>\n",
       "      <th>2157</th>\n",
       "      <td>Chácara</td>\n",
       "    </tr>\n",
       "    <tr>\n",
       "      <th>3354</th>\n",
       "      <td>Loteamento/Condomínio</td>\n",
       "    </tr>\n",
       "    <tr>\n",
       "      <th>4379</th>\n",
       "      <td>Sítio</td>\n",
       "    </tr>\n",
       "    <tr>\n",
       "      <th>4721</th>\n",
       "      <td>Pousada/Chalé</td>\n",
       "    </tr>\n",
       "    <tr>\n",
       "      <th>6983</th>\n",
       "      <td>Studio</td>\n",
       "    </tr>\n",
       "    <tr>\n",
       "      <th>9687</th>\n",
       "      <td>Hotel</td>\n",
       "    </tr>\n",
       "    <tr>\n",
       "      <th>23614</th>\n",
       "      <td>Indústria</td>\n",
       "    </tr>\n",
       "  </tbody>\n",
       "</table>\n",
       "</div>"
      ],
      "text/plain": [
       "                              Tipo\n",
       "0                        Quitinete\n",
       "1                             Casa\n",
       "2          Conjunto Comercial/Sala\n",
       "3                      Apartamento\n",
       "7               Casa de Condomínio\n",
       "16                  Prédio Inteiro\n",
       "17                            Flat\n",
       "29                      Loja/Salão\n",
       "80         Galpão/Depósito/Armazém\n",
       "83                  Casa Comercial\n",
       "117                   Casa de Vila\n",
       "159                 Terreno Padrão\n",
       "207                    Box/Garagem\n",
       "347                           Loft\n",
       "589    Loja Shopping/ Ct Comercial\n",
       "2157                       Chácara\n",
       "3354         Loteamento/Condomínio\n",
       "4379                         Sítio\n",
       "4721                 Pousada/Chalé\n",
       "6983                        Studio\n",
       "9687                         Hotel\n",
       "23614                    Indústria"
      ]
     },
     "execution_count": 13,
     "metadata": {},
     "output_type": "execute_result"
    }
   ],
   "source": [
    "tipo_de_imovel"
   ]
  },
  {
   "cell_type": "code",
   "execution_count": 14,
   "id": "06037acc-7301-4dd6-9c65-1d37a2dc101c",
   "metadata": {},
   "outputs": [
    {
     "data": {
      "text/plain": [
       "Int64Index([    0,     1,     2,     3,     7,    16,    17,    29,    80,\n",
       "               83,   117,   159,   207,   347,   589,  2157,  3354,  4379,\n",
       "             4721,  6983,  9687, 23614],\n",
       "           dtype='int64')"
      ]
     },
     "execution_count": 14,
     "metadata": {},
     "output_type": "execute_result"
    }
   ],
   "source": [
    "tipo_de_imovel.index"
   ]
  },
  {
   "cell_type": "code",
   "execution_count": 15,
   "id": "d0b9c573-b110-4118-aabf-60d9d947ffa6",
   "metadata": {},
   "outputs": [
    {
     "data": {
      "text/plain": [
       "(22, 1)"
      ]
     },
     "execution_count": 15,
     "metadata": {},
     "output_type": "execute_result"
    }
   ],
   "source": [
    "tipo_de_imovel.shape"
   ]
  },
  {
   "cell_type": "code",
   "execution_count": 16,
   "id": "ab9523e0-46cc-475e-80ab-f8440b46c758",
   "metadata": {},
   "outputs": [
    {
     "data": {
      "text/plain": [
       "range(0, 22)"
      ]
     },
     "execution_count": 16,
     "metadata": {},
     "output_type": "execute_result"
    }
   ],
   "source": [
    "range(tipo_de_imovel.shape[0])"
   ]
  },
  {
   "cell_type": "code",
   "execution_count": 17,
   "id": "cfd2f303-35bc-49d1-8e7a-fcde1f6a7b4a",
   "metadata": {},
   "outputs": [
    {
     "name": "stdout",
     "output_type": "stream",
     "text": [
      "0\n",
      "1\n",
      "2\n",
      "3\n",
      "4\n",
      "5\n",
      "6\n",
      "7\n",
      "8\n",
      "9\n",
      "10\n",
      "11\n",
      "12\n",
      "13\n",
      "14\n",
      "15\n",
      "16\n",
      "17\n",
      "18\n",
      "19\n",
      "20\n",
      "21\n"
     ]
    }
   ],
   "source": [
    "for i in range(tipo_de_imovel.shape[0]):\n",
    "    print(i)"
   ]
  },
  {
   "cell_type": "code",
   "execution_count": 18,
   "id": "3d9cb0a7-d49d-4157-8543-49c90b92c7b7",
   "metadata": {},
   "outputs": [],
   "source": [
    "tipo_de_imovel.index = range(tipo_de_imovel.shape[0])"
   ]
  },
  {
   "cell_type": "code",
   "execution_count": 19,
   "id": "45944a47-ee82-4554-bb7b-c69f5dfbf055",
   "metadata": {},
   "outputs": [
    {
     "data": {
      "text/plain": [
       "RangeIndex(start=0, stop=22, step=1)"
      ]
     },
     "execution_count": 19,
     "metadata": {},
     "output_type": "execute_result"
    }
   ],
   "source": [
    "tipo_de_imovel.index"
   ]
  },
  {
   "cell_type": "code",
   "execution_count": 20,
   "id": "c5648832-a920-4408-b4ad-ce6a137db368",
   "metadata": {},
   "outputs": [
    {
     "data": {
      "text/html": [
       "<div>\n",
       "<style scoped>\n",
       "    .dataframe tbody tr th:only-of-type {\n",
       "        vertical-align: middle;\n",
       "    }\n",
       "\n",
       "    .dataframe tbody tr th {\n",
       "        vertical-align: top;\n",
       "    }\n",
       "\n",
       "    .dataframe thead th {\n",
       "        text-align: right;\n",
       "    }\n",
       "</style>\n",
       "<table border=\"1\" class=\"dataframe\">\n",
       "  <thead>\n",
       "    <tr style=\"text-align: right;\">\n",
       "      <th></th>\n",
       "      <th>Tipo</th>\n",
       "    </tr>\n",
       "  </thead>\n",
       "  <tbody>\n",
       "    <tr>\n",
       "      <th>0</th>\n",
       "      <td>Quitinete</td>\n",
       "    </tr>\n",
       "    <tr>\n",
       "      <th>1</th>\n",
       "      <td>Casa</td>\n",
       "    </tr>\n",
       "    <tr>\n",
       "      <th>2</th>\n",
       "      <td>Conjunto Comercial/Sala</td>\n",
       "    </tr>\n",
       "    <tr>\n",
       "      <th>3</th>\n",
       "      <td>Apartamento</td>\n",
       "    </tr>\n",
       "    <tr>\n",
       "      <th>4</th>\n",
       "      <td>Casa de Condomínio</td>\n",
       "    </tr>\n",
       "    <tr>\n",
       "      <th>5</th>\n",
       "      <td>Prédio Inteiro</td>\n",
       "    </tr>\n",
       "    <tr>\n",
       "      <th>6</th>\n",
       "      <td>Flat</td>\n",
       "    </tr>\n",
       "    <tr>\n",
       "      <th>7</th>\n",
       "      <td>Loja/Salão</td>\n",
       "    </tr>\n",
       "    <tr>\n",
       "      <th>8</th>\n",
       "      <td>Galpão/Depósito/Armazém</td>\n",
       "    </tr>\n",
       "    <tr>\n",
       "      <th>9</th>\n",
       "      <td>Casa Comercial</td>\n",
       "    </tr>\n",
       "    <tr>\n",
       "      <th>10</th>\n",
       "      <td>Casa de Vila</td>\n",
       "    </tr>\n",
       "    <tr>\n",
       "      <th>11</th>\n",
       "      <td>Terreno Padrão</td>\n",
       "    </tr>\n",
       "    <tr>\n",
       "      <th>12</th>\n",
       "      <td>Box/Garagem</td>\n",
       "    </tr>\n",
       "    <tr>\n",
       "      <th>13</th>\n",
       "      <td>Loft</td>\n",
       "    </tr>\n",
       "    <tr>\n",
       "      <th>14</th>\n",
       "      <td>Loja Shopping/ Ct Comercial</td>\n",
       "    </tr>\n",
       "    <tr>\n",
       "      <th>15</th>\n",
       "      <td>Chácara</td>\n",
       "    </tr>\n",
       "    <tr>\n",
       "      <th>16</th>\n",
       "      <td>Loteamento/Condomínio</td>\n",
       "    </tr>\n",
       "    <tr>\n",
       "      <th>17</th>\n",
       "      <td>Sítio</td>\n",
       "    </tr>\n",
       "    <tr>\n",
       "      <th>18</th>\n",
       "      <td>Pousada/Chalé</td>\n",
       "    </tr>\n",
       "    <tr>\n",
       "      <th>19</th>\n",
       "      <td>Studio</td>\n",
       "    </tr>\n",
       "    <tr>\n",
       "      <th>20</th>\n",
       "      <td>Hotel</td>\n",
       "    </tr>\n",
       "    <tr>\n",
       "      <th>21</th>\n",
       "      <td>Indústria</td>\n",
       "    </tr>\n",
       "  </tbody>\n",
       "</table>\n",
       "</div>"
      ],
      "text/plain": [
       "                           Tipo\n",
       "0                     Quitinete\n",
       "1                          Casa\n",
       "2       Conjunto Comercial/Sala\n",
       "3                   Apartamento\n",
       "4            Casa de Condomínio\n",
       "5                Prédio Inteiro\n",
       "6                          Flat\n",
       "7                    Loja/Salão\n",
       "8       Galpão/Depósito/Armazém\n",
       "9                Casa Comercial\n",
       "10                 Casa de Vila\n",
       "11               Terreno Padrão\n",
       "12                  Box/Garagem\n",
       "13                         Loft\n",
       "14  Loja Shopping/ Ct Comercial\n",
       "15                      Chácara\n",
       "16        Loteamento/Condomínio\n",
       "17                        Sítio\n",
       "18                Pousada/Chalé\n",
       "19                       Studio\n",
       "20                        Hotel\n",
       "21                    Indústria"
      ]
     },
     "execution_count": 20,
     "metadata": {},
     "output_type": "execute_result"
    }
   ],
   "source": [
    "tipo_de_imovel"
   ]
  },
  {
   "cell_type": "code",
   "execution_count": 21,
   "id": "1cc397b1-4b29-41de-8cfc-60ce5edce930",
   "metadata": {},
   "outputs": [],
   "source": [
    "tipo_de_imovel.columns.name = \"ID\""
   ]
  },
  {
   "cell_type": "code",
   "execution_count": 22,
   "id": "c6ded17e-748c-4b84-9a7f-efee06af809b",
   "metadata": {},
   "outputs": [
    {
     "data": {
      "text/html": [
       "<div>\n",
       "<style scoped>\n",
       "    .dataframe tbody tr th:only-of-type {\n",
       "        vertical-align: middle;\n",
       "    }\n",
       "\n",
       "    .dataframe tbody tr th {\n",
       "        vertical-align: top;\n",
       "    }\n",
       "\n",
       "    .dataframe thead th {\n",
       "        text-align: right;\n",
       "    }\n",
       "</style>\n",
       "<table border=\"1\" class=\"dataframe\">\n",
       "  <thead>\n",
       "    <tr style=\"text-align: right;\">\n",
       "      <th>ID</th>\n",
       "      <th>Tipo</th>\n",
       "    </tr>\n",
       "  </thead>\n",
       "  <tbody>\n",
       "    <tr>\n",
       "      <th>0</th>\n",
       "      <td>Quitinete</td>\n",
       "    </tr>\n",
       "    <tr>\n",
       "      <th>1</th>\n",
       "      <td>Casa</td>\n",
       "    </tr>\n",
       "    <tr>\n",
       "      <th>2</th>\n",
       "      <td>Conjunto Comercial/Sala</td>\n",
       "    </tr>\n",
       "    <tr>\n",
       "      <th>3</th>\n",
       "      <td>Apartamento</td>\n",
       "    </tr>\n",
       "    <tr>\n",
       "      <th>4</th>\n",
       "      <td>Casa de Condomínio</td>\n",
       "    </tr>\n",
       "    <tr>\n",
       "      <th>5</th>\n",
       "      <td>Prédio Inteiro</td>\n",
       "    </tr>\n",
       "    <tr>\n",
       "      <th>6</th>\n",
       "      <td>Flat</td>\n",
       "    </tr>\n",
       "    <tr>\n",
       "      <th>7</th>\n",
       "      <td>Loja/Salão</td>\n",
       "    </tr>\n",
       "    <tr>\n",
       "      <th>8</th>\n",
       "      <td>Galpão/Depósito/Armazém</td>\n",
       "    </tr>\n",
       "    <tr>\n",
       "      <th>9</th>\n",
       "      <td>Casa Comercial</td>\n",
       "    </tr>\n",
       "    <tr>\n",
       "      <th>10</th>\n",
       "      <td>Casa de Vila</td>\n",
       "    </tr>\n",
       "    <tr>\n",
       "      <th>11</th>\n",
       "      <td>Terreno Padrão</td>\n",
       "    </tr>\n",
       "    <tr>\n",
       "      <th>12</th>\n",
       "      <td>Box/Garagem</td>\n",
       "    </tr>\n",
       "    <tr>\n",
       "      <th>13</th>\n",
       "      <td>Loft</td>\n",
       "    </tr>\n",
       "    <tr>\n",
       "      <th>14</th>\n",
       "      <td>Loja Shopping/ Ct Comercial</td>\n",
       "    </tr>\n",
       "    <tr>\n",
       "      <th>15</th>\n",
       "      <td>Chácara</td>\n",
       "    </tr>\n",
       "    <tr>\n",
       "      <th>16</th>\n",
       "      <td>Loteamento/Condomínio</td>\n",
       "    </tr>\n",
       "    <tr>\n",
       "      <th>17</th>\n",
       "      <td>Sítio</td>\n",
       "    </tr>\n",
       "    <tr>\n",
       "      <th>18</th>\n",
       "      <td>Pousada/Chalé</td>\n",
       "    </tr>\n",
       "    <tr>\n",
       "      <th>19</th>\n",
       "      <td>Studio</td>\n",
       "    </tr>\n",
       "    <tr>\n",
       "      <th>20</th>\n",
       "      <td>Hotel</td>\n",
       "    </tr>\n",
       "    <tr>\n",
       "      <th>21</th>\n",
       "      <td>Indústria</td>\n",
       "    </tr>\n",
       "  </tbody>\n",
       "</table>\n",
       "</div>"
      ],
      "text/plain": [
       "ID                         Tipo\n",
       "0                     Quitinete\n",
       "1                          Casa\n",
       "2       Conjunto Comercial/Sala\n",
       "3                   Apartamento\n",
       "4            Casa de Condomínio\n",
       "5                Prédio Inteiro\n",
       "6                          Flat\n",
       "7                    Loja/Salão\n",
       "8       Galpão/Depósito/Armazém\n",
       "9                Casa Comercial\n",
       "10                 Casa de Vila\n",
       "11               Terreno Padrão\n",
       "12                  Box/Garagem\n",
       "13                         Loft\n",
       "14  Loja Shopping/ Ct Comercial\n",
       "15                      Chácara\n",
       "16        Loteamento/Condomínio\n",
       "17                        Sítio\n",
       "18                Pousada/Chalé\n",
       "19                       Studio\n",
       "20                        Hotel\n",
       "21                    Indústria"
      ]
     },
     "execution_count": 22,
     "metadata": {},
     "output_type": "execute_result"
    }
   ],
   "source": [
    "tipo_de_imovel"
   ]
  }
 ],
 "metadata": {
  "kernelspec": {
   "display_name": "Python 3 (ipykernel)",
   "language": "python",
   "name": "python3"
  },
  "language_info": {
   "codemirror_mode": {
    "name": "ipython",
    "version": 3
   },
   "file_extension": ".py",
   "mimetype": "text/x-python",
   "name": "python",
   "nbconvert_exporter": "python",
   "pygments_lexer": "ipython3",
   "version": "3.9.7"
  },
  "widgets": {
   "application/vnd.jupyter.widget-state+json": {
    "state": {},
    "version_major": 2,
    "version_minor": 0
   }
  }
 },
 "nbformat": 4,
 "nbformat_minor": 5
}
