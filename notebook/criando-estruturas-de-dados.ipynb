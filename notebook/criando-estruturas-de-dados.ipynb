{
 "cells": [
  {
   "cell_type": "markdown",
   "id": "f71f1c85-4cf9-47ab-8e09-c8a0ea1391e1",
   "metadata": {},
   "source": [
    "# Criando estruturas de dados"
   ]
  },
  {
   "cell_type": "code",
   "execution_count": 1,
   "id": "b4dbea36-3221-4a14-9b4f-6dc33be479df",
   "metadata": {},
   "outputs": [],
   "source": [
    "import pandas as pd # noqa E402"
   ]
  },
  {
   "cell_type": "markdown",
   "id": "dc82b19a-e028-48d7-8a58-ba660bf83bf7",
   "metadata": {},
   "source": [
    "## Series"
   ]
  },
  {
   "cell_type": "code",
   "execution_count": 2,
   "id": "3d04bd13-11be-4520-8757-db272ffc8c95",
   "metadata": {},
   "outputs": [],
   "source": [
    "data = [1, 2, 3, 4, 5]"
   ]
  },
  {
   "cell_type": "markdown",
   "id": "0aeb5fc7-546c-4825-9acb-95698fbb7190",
   "metadata": {},
   "source": [
    "Uma `Series` pode ser criada a partir de uma `list`."
   ]
  },
  {
   "cell_type": "code",
   "execution_count": 3,
   "id": "85164979-6913-469a-a7fc-b9dd89c738b3",
   "metadata": {},
   "outputs": [],
   "source": [
    "s = pd.Series(data)"
   ]
  },
  {
   "cell_type": "code",
   "execution_count": 4,
   "id": "d6cbd038-7971-4a0f-9a1f-69791cc4fc42",
   "metadata": {},
   "outputs": [
    {
     "data": {
      "text/plain": [
       "0    1\n",
       "1    2\n",
       "2    3\n",
       "3    4\n",
       "4    5\n",
       "dtype: int64"
      ]
     },
     "execution_count": 4,
     "metadata": {},
     "output_type": "execute_result"
    }
   ],
   "source": [
    "s"
   ]
  },
  {
   "cell_type": "markdown",
   "id": "2f62388d-c051-45f7-bf26-7003683265df",
   "metadata": {},
   "source": [
    "Podemos criar uma `Series` informando também uma lista como índice"
   ]
  },
  {
   "cell_type": "code",
   "execution_count": 5,
   "id": "6722a0a1-bd05-439c-9a3c-979fb5cbd654",
   "metadata": {},
   "outputs": [
    {
     "data": {
      "text/plain": [
       "['Linha 0', 'Linha 1', 'Linha 2', 'Linha 3', 'Linha 4']"
      ]
     },
     "execution_count": 5,
     "metadata": {},
     "output_type": "execute_result"
    }
   ],
   "source": [
    "index = [f'Linha {i}' for i in range(5)]\n",
    "index"
   ]
  },
  {
   "cell_type": "code",
   "execution_count": 6,
   "id": "9ff96107-85d2-43fa-a8e4-ec14174f7bdc",
   "metadata": {},
   "outputs": [],
   "source": [
    "s = pd.Series(data=data, index=index)"
   ]
  },
  {
   "cell_type": "code",
   "execution_count": 7,
   "id": "4bbeb289-9647-40a6-8042-04f1c3280603",
   "metadata": {},
   "outputs": [
    {
     "data": {
      "text/plain": [
       "Linha 0    1\n",
       "Linha 1    2\n",
       "Linha 2    3\n",
       "Linha 3    4\n",
       "Linha 4    5\n",
       "dtype: int64"
      ]
     },
     "execution_count": 7,
     "metadata": {},
     "output_type": "execute_result"
    }
   ],
   "source": [
    "s"
   ]
  },
  {
   "cell_type": "markdown",
   "id": "b06df788-95a0-43ae-8ff8-f6c3b8321cdd",
   "metadata": {},
   "source": [
    "Podemos criar uma `Series` a partir de um dicionário. Nesse caso, as chaves \n",
    "serão o índice."
   ]
  },
  {
   "cell_type": "code",
   "execution_count": 8,
   "id": "1c772762-df77-4aa3-8e54-7012574d1bca",
   "metadata": {},
   "outputs": [],
   "source": [
    "data = {f'Linha {i}': i + 1 for i in range(5)}"
   ]
  },
  {
   "cell_type": "code",
   "execution_count": 9,
   "id": "ca8972e4-faf7-4cce-ab21-d9a1e5dd4340",
   "metadata": {},
   "outputs": [
    {
     "data": {
      "text/plain": [
       "{'Linha 0': 1, 'Linha 1': 2, 'Linha 2': 3, 'Linha 3': 4, 'Linha 4': 5}"
      ]
     },
     "execution_count": 9,
     "metadata": {},
     "output_type": "execute_result"
    }
   ],
   "source": [
    "data"
   ]
  },
  {
   "cell_type": "code",
   "execution_count": 10,
   "id": "40edb14d-250f-4790-9bbd-d53c68171014",
   "metadata": {},
   "outputs": [
    {
     "data": {
      "text/plain": [
       "Linha 0    1\n",
       "Linha 1    2\n",
       "Linha 2    3\n",
       "Linha 3    4\n",
       "Linha 4    5\n",
       "dtype: int64"
      ]
     },
     "execution_count": 10,
     "metadata": {},
     "output_type": "execute_result"
    }
   ],
   "source": [
    "s = pd.Series(data)\n",
    "s"
   ]
  },
  {
   "cell_type": "markdown",
   "id": "06fe3599-b5cc-4509-8adf-498d09c0fb8a",
   "metadata": {},
   "source": [
    "Podemos somar um número a cada elemento da `Series`."
   ]
  },
  {
   "cell_type": "code",
   "execution_count": 11,
   "id": "169194be-e719-491a-ba22-5d7c5098ac35",
   "metadata": {},
   "outputs": [],
   "source": [
    "s1 = s + 2"
   ]
  },
  {
   "cell_type": "code",
   "execution_count": 12,
   "id": "e2ebfd18-c6f9-4af8-b58f-d3d8bb577d81",
   "metadata": {},
   "outputs": [
    {
     "data": {
      "text/plain": [
       "Linha 0    3\n",
       "Linha 1    4\n",
       "Linha 2    5\n",
       "Linha 3    6\n",
       "Linha 4    7\n",
       "dtype: int64"
      ]
     },
     "execution_count": 12,
     "metadata": {},
     "output_type": "execute_result"
    }
   ],
   "source": [
    "s1"
   ]
  },
  {
   "cell_type": "markdown",
   "id": "d9bdfc62-2a5a-4a79-9144-b07d47a71e65",
   "metadata": {},
   "source": [
    "Podemos somar duas `Series`."
   ]
  },
  {
   "cell_type": "code",
   "execution_count": 13,
   "id": "2e751ac5-f2a8-4d53-9232-8a576fe9d936",
   "metadata": {},
   "outputs": [
    {
     "data": {
      "text/plain": [
       "Linha 0     4\n",
       "Linha 1     6\n",
       "Linha 2     8\n",
       "Linha 3    10\n",
       "Linha 4    12\n",
       "dtype: int64"
      ]
     },
     "execution_count": 13,
     "metadata": {},
     "output_type": "execute_result"
    }
   ],
   "source": [
    "s2 = s + s1\n",
    "s2"
   ]
  }
 ],
 "metadata": {
  "kernelspec": {
   "display_name": "Python 3 (ipykernel)",
   "language": "python",
   "name": "python3"
  },
  "language_info": {
   "codemirror_mode": {
    "name": "ipython",
    "version": 3
   },
   "file_extension": ".py",
   "mimetype": "text/x-python",
   "name": "python",
   "nbconvert_exporter": "python",
   "pygments_lexer": "ipython3",
   "version": "3.9.7"
  },
  "widgets": {
   "application/vnd.jupyter.widget-state+json": {
    "state": {},
    "version_major": 2,
    "version_minor": 0
   }
  }
 },
 "nbformat": 4,
 "nbformat_minor": 5
}
