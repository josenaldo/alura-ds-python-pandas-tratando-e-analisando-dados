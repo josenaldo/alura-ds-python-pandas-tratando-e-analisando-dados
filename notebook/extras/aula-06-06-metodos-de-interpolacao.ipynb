{
 "cells": [
  {
   "cell_type": "markdown",
   "id": "785d3a16-0fc9-4f2d-ae1d-4e403606b7fd",
   "metadata": {},
   "source": [
    "# Métodos de Interpolação"
   ]
  },
  {
   "cell_type": "code",
   "execution_count": 1,
   "id": "f7cee522-f888-4114-800c-50e7de2e6025",
   "metadata": {},
   "outputs": [],
   "source": [
    "import pandas as pd # noqa E402"
   ]
  },
  {
   "cell_type": "code",
   "execution_count": null,
   "id": "b371b04c-8800-4097-950d-99ac65472b44",
   "metadata": {},
   "outputs": [],
   "source": []
  }
 ],
 "metadata": {
  "kernelspec": {
   "display_name": "Python 3 (ipykernel)",
   "language": "python",
   "name": "python3"
  },
  "language_info": {
   "codemirror_mode": {
    "name": "ipython",
    "version": 3
   },
   "file_extension": ".py",
   "mimetype": "text/x-python",
   "name": "python",
   "nbconvert_exporter": "python",
   "pygments_lexer": "ipython3",
   "version": "3.9.7"
  },
  "widgets": {
   "application/vnd.jupyter.widget-state+json": {
    "state": {},
    "version_major": 2,
    "version_minor": 0
   }
  }
 },
 "nbformat": 4,
 "nbformat_minor": 5
}
